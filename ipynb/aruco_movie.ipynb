{
 "cells": [
  {
   "cell_type": "markdown",
   "id": "c9f8cb29",
   "metadata": {},
   "source": [
    "# AruCo marker video for multi-cam synchnonization\n",
    "\n",
    "This is a simplified version of [GoPro Precision Date and Time (Local)](https://gopro.github.io/labs/control/precisiontime/).  Instead of displaying a QR code representing the current time in microseconds, the video in this example shows an AruCo marker at each frame.\n"
   ]
  },
  {
   "cell_type": "code",
   "execution_count": 1,
   "id": "fa6368c4",
   "metadata": {},
   "outputs": [],
   "source": [
    "import sys, os, cv2\n",
    "import numpy as np\n",
    "import matplotlib.pyplot as plt\n",
    "from tqdm.auto import tqdm\n",
    "\n",
    "class AruCoMaker:\n",
    "    def __init__(self, aruco_dict, dict_size, square_length):\n",
    "        self.aruco_dict = aruco_dict\n",
    "        self.dict_size = dict_size\n",
    "        self.square_length = square_length\n",
    "    \n",
    "    def __getitem__(self, idx):\n",
    "        idx %= self.dict_size\n",
    "        return cv2.aruco.generateImageMarker(self.aruco_dict, idx, self.square_length)\n",
    "    \n",
    "class ChAruCoDiamondMaker:\n",
    "    def __init__(self, aruco_dict, dict_size, square_length, marker_length):\n",
    "        self.aruco_dict = aruco_dict\n",
    "        self.dict_size = dict_size\n",
    "        self.square_length = square_length\n",
    "        self.marker_length = marker_length\n",
    "    \n",
    "    def __getitem__(self, idx):\n",
    "        diamond_marker_ids = np.array([0, 1, 2, 3], dtype=int)\n",
    "        diamond_marker_ids += idx\n",
    "        diamond_marker_ids %= self.dict_size\n",
    "        board = cv2.aruco.CharucoBoard((3, 3), self.square_length, self.marker_length, self.aruco_dict, diamond_marker_ids)\n",
    "        return board.generateImage((self.square_length, self.square_length))\n",
    "\n",
    "def padto(image, width, height):\n",
    "    ih, iw = image.shape[:2]\n",
    "    buf = np.ones((height, width, 3), dtype=np.uint8) * 255\n",
    "    dx = (width-iw)//2\n",
    "    dy = (height-ih)//2\n",
    "    buf[dy:dy+ih,dx:dx+iw,:] = image[:,:,None]\n",
    "    return buf\n"
   ]
  },
  {
   "cell_type": "code",
   "execution_count": 7,
   "id": "07bae7e3",
   "metadata": {
    "scrolled": true
   },
   "outputs": [
    {
     "data": {
      "application/vnd.jupyter.widget-view+json": {
       "model_id": "5c646eee24b84cec8168d7d27ec093fc",
       "version_major": 2,
       "version_minor": 0
      },
      "text/plain": [
       "output-aruco@15Hz:   0%|          | 0/45 [00:00<?, ?it/s]"
      ]
     },
     "metadata": {},
     "output_type": "display_data"
    },
    {
     "name": "stdout",
     "output_type": "stream",
     "text": [
      "x265 [info]: HEVC encoder version 3.5+1-f0c1022b6\n",
      "x265 [info]: build info [Linux][GCC 8.3.0][64 bit] 8bit+10bit+12bit\n",
      "x265 [info]: using cpu capabilities: MMX2 SSE2Fast LZCNT SSSE3 SSE4.2 AVX FMA3 BMI2 AVX2\n",
      "x265 [info]: Main profile, Level-4 (Main tier)\n",
      "x265 [info]: Thread pool created using 20 threads\n",
      "x265 [info]: Slices                              : 1\n",
      "x265 [info]: frame threads / pool features       : 4 / wpp(17 rows)\n",
      "x265 [info]: Coding QT: max CU size, min CU size : 64 / 8\n",
      "x265 [info]: Residual QT: max TU size, max depth : 32 / 1 inter / 1 intra\n",
      "x265 [info]: ME / range / subpel / merge         : hex / 57 / 2 / 3\n",
      "x265 [info]: Keyframe min / max / scenecut / bias  : 15 / 250 / 40 / 5.00 \n",
      "x265 [info]: Lookahead / bframes / badapt        : 20 / 4 / 2\n",
      "x265 [info]: b-pyramid / weightp / weightb       : 1 / 1 / 0\n",
      "x265 [info]: References / ref-limit  cu / depth  : 3 / off / on\n",
      "x265 [info]: AQ: mode / str / qg-size / cu-tree  : 2 / 1.0 / 32 / 1\n",
      "x265 [info]: Rate Control / qCompress            : CRF-22.0 / 0.60\n",
      "x265 [info]: tools: rd=3 psy-rd=2.00 early-skip rskip mode=1 signhide tmvp\n",
      "x265 [info]: tools: b-intra strong-intra-smoothing lslices=6 deblock sao\n",
      "x265 [info]: frame I:      1, Avg QP:23.42  kb/s: 1355.28 \n",
      "x265 [info]: frame P:     44, Avg QP:24.91  kb/s: 162.04  \n",
      "x265 [info]: Weighted P-Frames: Y:0.0% UV:0.0%\n",
      "x265 [info]: consecutive B-frames: 100.0% 0.0% 0.0% 0.0% 0.0% \n",
      "\n",
      "encoded 45 frames in 0.79s (57.21 fps), 188.55 kb/s, Avg QP:24.87\n"
     ]
    },
    {
     "data": {
      "application/vnd.jupyter.widget-view+json": {
       "model_id": "ebcdc2fc85194da982a479256b312026",
       "version_major": 2,
       "version_minor": 0
      },
      "text/plain": [
       "output-diamond@15Hz:   0%|          | 0/45 [00:00<?, ?it/s]"
      ]
     },
     "metadata": {},
     "output_type": "display_data"
    },
    {
     "name": "stdout",
     "output_type": "stream",
     "text": [
      "x265 [info]: HEVC encoder version 3.5+1-f0c1022b6\n",
      "x265 [info]: build info [Linux][GCC 8.3.0][64 bit] 8bit+10bit+12bit\n",
      "x265 [info]: using cpu capabilities: MMX2 SSE2Fast LZCNT SSSE3 SSE4.2 AVX FMA3 BMI2 AVX2\n",
      "x265 [info]: Main profile, Level-4 (Main tier)\n",
      "x265 [info]: Thread pool created using 20 threads\n",
      "x265 [info]: Slices                              : 1\n",
      "x265 [info]: frame threads / pool features       : 4 / wpp(17 rows)\n",
      "x265 [info]: Coding QT: max CU size, min CU size : 64 / 8\n",
      "x265 [info]: Residual QT: max TU size, max depth : 32 / 1 inter / 1 intra\n",
      "x265 [info]: ME / range / subpel / merge         : hex / 57 / 2 / 3\n",
      "x265 [info]: Keyframe min / max / scenecut / bias  : 15 / 250 / 40 / 5.00 \n",
      "x265 [info]: Lookahead / bframes / badapt        : 20 / 4 / 2\n",
      "x265 [info]: b-pyramid / weightp / weightb       : 1 / 1 / 0\n",
      "x265 [info]: References / ref-limit  cu / depth  : 3 / off / on\n",
      "x265 [info]: AQ: mode / str / qg-size / cu-tree  : 2 / 1.0 / 32 / 1\n",
      "x265 [info]: Rate Control / qCompress            : CRF-22.0 / 0.60\n",
      "x265 [info]: tools: rd=3 psy-rd=2.00 early-skip rskip mode=1 signhide tmvp\n",
      "x265 [info]: tools: b-intra strong-intra-smoothing lslices=6 deblock sao\n",
      "x265 [info]: frame I:      1, Avg QP:21.60  kb/s: 1707.12 \n",
      "x265 [info]: frame P:     11, Avg QP:23.61  kb/s: 393.45  \n",
      "x265 [info]: frame B:     33, Avg QP:27.39  kb/s: 127.39  \n",
      "x265 [info]: Weighted P-Frames: Y:0.0% UV:0.0%\n",
      "x265 [info]: consecutive B-frames: 16.7% 0.0% 16.7% 25.0% 41.7% \n",
      "\n",
      "encoded 45 frames in 0.62s (72.27 fps), 227.53 kb/s, Avg QP:26.34\n"
     ]
    },
    {
     "data": {
      "application/vnd.jupyter.widget-view+json": {
       "model_id": "0f11944da1ae4651b3117650e1eb8c7e",
       "version_major": 2,
       "version_minor": 0
      },
      "text/plain": [
       "output-aruco@30Hz:   0%|          | 0/90 [00:00<?, ?it/s]"
      ]
     },
     "metadata": {},
     "output_type": "display_data"
    },
    {
     "name": "stdout",
     "output_type": "stream",
     "text": [
      "x265 [info]: HEVC encoder version 3.5+1-f0c1022b6\n",
      "x265 [info]: build info [Linux][GCC 8.3.0][64 bit] 8bit+10bit+12bit\n",
      "x265 [info]: using cpu capabilities: MMX2 SSE2Fast LZCNT SSSE3 SSE4.2 AVX FMA3 BMI2 AVX2\n",
      "x265 [info]: Main profile, Level-4 (Main tier)\n",
      "x265 [info]: Thread pool created using 20 threads\n",
      "x265 [info]: Slices                              : 1\n",
      "x265 [info]: frame threads / pool features       : 4 / wpp(17 rows)\n",
      "x265 [info]: Coding QT: max CU size, min CU size : 64 / 8\n",
      "x265 [info]: Residual QT: max TU size, max depth : 32 / 1 inter / 1 intra\n",
      "x265 [info]: ME / range / subpel / merge         : hex / 57 / 2 / 3\n",
      "x265 [info]: Keyframe min / max / scenecut / bias  : 25 / 250 / 40 / 5.00 \n",
      "x265 [info]: Lookahead / bframes / badapt        : 20 / 4 / 2\n",
      "x265 [info]: b-pyramid / weightp / weightb       : 1 / 1 / 0\n",
      "x265 [info]: References / ref-limit  cu / depth  : 3 / off / on\n",
      "x265 [info]: AQ: mode / str / qg-size / cu-tree  : 2 / 1.0 / 32 / 1\n",
      "x265 [info]: Rate Control / qCompress            : CRF-22.0 / 0.60\n",
      "x265 [info]: tools: rd=3 psy-rd=2.00 early-skip rskip mode=1 signhide tmvp\n",
      "x265 [info]: tools: b-intra strong-intra-smoothing lslices=6 deblock sao\n",
      "x265 [info]: frame I:      1, Avg QP:25.69  kb/s: 2511.60 \n",
      "x265 [info]: frame P:     89, Avg QP:27.16  kb/s: 242.86  \n",
      "x265 [info]: Weighted P-Frames: Y:0.0% UV:0.0%\n",
      "x265 [info]: consecutive B-frames: 100.0% 0.0% 0.0% 0.0% 0.0% \n",
      "\n",
      "encoded 90 frames in 1.50s (59.84 fps), 268.07 kb/s, Avg QP:27.14\n"
     ]
    },
    {
     "data": {
      "application/vnd.jupyter.widget-view+json": {
       "model_id": "9cb499f424564fa3bc07b3ba37fd8f6b",
       "version_major": 2,
       "version_minor": 0
      },
      "text/plain": [
       "output-diamond@30Hz:   0%|          | 0/90 [00:00<?, ?it/s]"
      ]
     },
     "metadata": {},
     "output_type": "display_data"
    },
    {
     "name": "stdout",
     "output_type": "stream",
     "text": [
      "x265 [info]: HEVC encoder version 3.5+1-f0c1022b6\n",
      "x265 [info]: build info [Linux][GCC 8.3.0][64 bit] 8bit+10bit+12bit\n",
      "x265 [info]: using cpu capabilities: MMX2 SSE2Fast LZCNT SSSE3 SSE4.2 AVX FMA3 BMI2 AVX2\n",
      "x265 [info]: Main profile, Level-4 (Main tier)\n",
      "x265 [info]: Thread pool created using 20 threads\n",
      "x265 [info]: Slices                              : 1\n",
      "x265 [info]: frame threads / pool features       : 4 / wpp(17 rows)\n",
      "x265 [info]: Coding QT: max CU size, min CU size : 64 / 8\n",
      "x265 [info]: Residual QT: max TU size, max depth : 32 / 1 inter / 1 intra\n",
      "x265 [info]: ME / range / subpel / merge         : hex / 57 / 2 / 3\n",
      "x265 [info]: Keyframe min / max / scenecut / bias  : 25 / 250 / 40 / 5.00 \n",
      "x265 [info]: Lookahead / bframes / badapt        : 20 / 4 / 2\n",
      "x265 [info]: b-pyramid / weightp / weightb       : 1 / 1 / 0\n",
      "x265 [info]: References / ref-limit  cu / depth  : 3 / off / on\n",
      "x265 [info]: AQ: mode / str / qg-size / cu-tree  : 2 / 1.0 / 32 / 1\n",
      "x265 [info]: Rate Control / qCompress            : CRF-22.0 / 0.60\n",
      "x265 [info]: tools: rd=3 psy-rd=2.00 early-skip rskip mode=1 signhide tmvp\n",
      "x265 [info]: tools: b-intra strong-intra-smoothing lslices=6 deblock sao\n",
      "x265 [info]: frame I:      1, Avg QP:23.79  kb/s: 3146.16 \n",
      "x265 [info]: frame P:     21, Avg QP:25.80  kb/s: 513.37  \n",
      "x265 [info]: frame B:     68, Avg QP:29.57  kb/s: 210.81  \n",
      "x265 [info]: Weighted P-Frames: Y:0.0% UV:0.0%\n",
      "x265 [info]: consecutive B-frames: 13.6% 0.0% 9.1% 18.2% 59.1% \n",
      "\n",
      "encoded 90 frames in 1.24s (72.76 fps), 314.02 kb/s, Avg QP:28.63\n"
     ]
    },
    {
     "data": {
      "text/plain": [
       "\"\\nfor i in tqdm(range(duration*video_fps)):\\n    i = i % 250\\n    image = cv2.aruco.drawMarker(aruco_dict, i, square_length)\\n    buf = np.ones((video_height, video_width, 3), dtype=np.uint8) * 255\\n    dx = (video_width-square_length)//2\\n    dy = (video_height-square_length)//2\\n    buf[dy:dy+square_length,dx:dx+square_length,:] = image[:,:,None]\\n    \\n    cv2.putText(buf, f'DICT_6X6_250 #{i} @ {video_fps}Hz', (dx, video_height-50), cv2.FONT_HERSHEY_PLAIN, 4, (0, 0, 0), 5, cv2.LINE_AA)\\n    \\n    video.write(buf)\\n\\nvideo.release()\\n\""
      ]
     },
     "execution_count": 7,
     "metadata": {},
     "output_type": "execute_result"
    }
   ],
   "source": [
    "from IPython.display import Video\n",
    "\n",
    "duration = 30   # 30 sec\n",
    "video_width = 1920\n",
    "video_height = 1080\n",
    "\n",
    "aruco_dict = cv2.aruco.getPredefinedDictionary(cv2.aruco.DICT_6X6_250)\n",
    "aruco_dict_size = 250\n",
    "\n",
    "video_fps = [15, 30]\n",
    "output_base = [\"output-aruco\", \"output-diamond\"]\n",
    "maker = [AruCoMaker(aruco_dict, aruco_dict_size, 800),\n",
    "         ChAruCoDiamondMaker(aruco_dict, aruco_dict_size, 750, 450)]\n",
    "\n",
    "# opencv-python by pip does not suppert 'h264'.\n",
    "codec = cv2.VideoWriter_fourcc(*'mp4v')\n",
    "\n",
    "\n",
    "for fps in video_fps:\n",
    "    for ba, ma in zip(output_base, maker):\n",
    "        video = cv2.VideoWriter(ba + '.mp4', codec, fps, (video_width, video_height))\n",
    "        for i in tqdm(range(duration*fps), desc=f'{ba}@{fps}Hz'):\n",
    "            i = i % aruco_dict_size\n",
    "            buf = padto(ma[i], video_width, video_height)\n",
    "            cv2.putText(buf, f'DICT_6X6_250 #{i} @ {fps}Hz', (100, video_height-50), cv2.FONT_HERSHEY_PLAIN, 4, (0, 0, 0), 5, cv2.LINE_AA)\n",
    "            video.write(buf)\n",
    "        video.release()\n",
    "\n",
    "        # We can then use ffmpeg to encode MP4V to H264. This makes the filesize smaller in general, and also allows embedding the video in the web browser.\n",
    "        !ffmpeg -loglevel quiet -i \"{ba}.mp4\" -c:v libx265 -crf 22 -tag:v hvc1 -y \"{ba}-{fps}hz.mp4\"\n",
    "        #Video('{ba}-{fps}hz.mp4', embed=True)\n"
   ]
  }
 ],
 "metadata": {
  "kernelspec": {
   "display_name": "Python 3 (ipykernel)",
   "language": "python",
   "name": "python3"
  },
  "language_info": {
   "codemirror_mode": {
    "name": "ipython",
    "version": 3
   },
   "file_extension": ".py",
   "mimetype": "text/x-python",
   "name": "python",
   "nbconvert_exporter": "python",
   "pygments_lexer": "ipython3",
   "version": "3.10.12"
  }
 },
 "nbformat": 4,
 "nbformat_minor": 5
}
