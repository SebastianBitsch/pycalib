{
 "cells": [
  {
   "cell_type": "markdown",
   "id": "c9f8cb29",
   "metadata": {},
   "source": [
    "# AruCo marker video for multi-cam synchnonization\n",
    "\n",
    "This is a simplified version of [GoPro Precision Date and Time (Local)](https://gopro.github.io/labs/control/precisiontime/).  Instead of displaying a QR code representing the current time in microseconds, the video in this example shows an AruCo marker at each frame.\n"
   ]
  },
  {
   "cell_type": "code",
   "execution_count": 10,
   "id": "fa6368c4",
   "metadata": {},
   "outputs": [],
   "source": [
    "%matplotlib notebook\n",
    "import sys, os, cv2\n",
    "import numpy as np\n",
    "import matplotlib.pyplot as plt\n",
    "from tqdm.auto import tqdm\n",
    "\n",
    "class AruCoMaker:\n",
    "    def __init__(self, aruco_dict, dict_size, square_length):\n",
    "        self.aruco_dict = aruco_dict\n",
    "        self.dict_size = dict_size\n",
    "        self.square_length = square_length\n",
    "    \n",
    "    def __getitem__(self, idx):\n",
    "        idx %= self.dict_size\n",
    "        return cv2.aruco.drawMarker(self.aruco_dict, idx, self.square_length)\n",
    "    \n",
    "class ChAruCoDiamondMaker:\n",
    "    def __init__(self, aruco_dict, dict_size, square_length, marker_length):\n",
    "        self.aruco_dict = aruco_dict\n",
    "        self.dict_size = dict_size\n",
    "        self.square_length = square_length\n",
    "        self.marker_length = marker_length\n",
    "    \n",
    "    def __getitem__(self, idx):\n",
    "        diamond_marker_ids = np.array([0, 1, 2, 3], dtype=int)\n",
    "        diamond_marker_ids += idx\n",
    "        diamond_marker_ids %= self.dict_size\n",
    "        return cv2.aruco.drawCharucoDiamond(self.aruco_dict, diamond_marker_ids, self.square_length, self.marker_length)\n",
    "\n",
    "def padto(image, width, height):\n",
    "    ih, iw = image.shape[:2]\n",
    "    buf = np.ones((height, width, 3), dtype=np.uint8) * 255\n",
    "    dx = (width-iw)//2\n",
    "    dy = (height-ih)//2\n",
    "    buf[dy:dy+ih,dx:dx+iw,:] = image[:,:,None]\n",
    "    return buf\n"
   ]
  },
  {
   "cell_type": "code",
   "execution_count": 13,
   "id": "07bae7e3",
   "metadata": {
    "scrolled": true
   },
   "outputs": [
    {
     "data": {
      "application/vnd.jupyter.widget-view+json": {
       "model_id": "f0c63133a3ec46eaa5f8cc8b519b030b",
       "version_major": 2,
       "version_minor": 0
      },
      "text/plain": [
       "output-aruco@15Hz:   0%|          | 0/4500 [00:00<?, ?it/s]"
      ]
     },
     "metadata": {},
     "output_type": "display_data"
    },
    {
     "name": "stdout",
     "output_type": "stream",
     "text": [
      "x265 [info]: HEVC encoder version 3.5+1-f0c1022b6\n",
      "x265 [info]: build info [Linux][GCC 8.3.0][64 bit] 8bit+10bit+12bit\n",
      "x265 [info]: using cpu capabilities: MMX2 SSE2Fast LZCNT SSSE3 SSE4.2 AVX FMA3 BMI2 AVX2\n",
      "x265 [info]: Main profile, Level-4 (Main tier)\n",
      "x265 [info]: Thread pool created using 20 threads\n",
      "x265 [info]: Slices                              : 1\n",
      "x265 [info]: frame threads / pool features       : 4 / wpp(17 rows)\n",
      "x265 [info]: Coding QT: max CU size, min CU size : 64 / 8\n",
      "x265 [info]: Residual QT: max TU size, max depth : 32 / 1 inter / 1 intra\n",
      "x265 [info]: ME / range / subpel / merge         : hex / 57 / 2 / 3\n",
      "x265 [info]: Keyframe min / max / scenecut / bias  : 15 / 250 / 40 / 5.00 \n",
      "x265 [info]: Lookahead / bframes / badapt        : 20 / 4 / 2\n",
      "x265 [info]: b-pyramid / weightp / weightb       : 1 / 1 / 0\n",
      "x265 [info]: References / ref-limit  cu / depth  : 3 / off / on\n",
      "x265 [info]: AQ: mode / str / qg-size / cu-tree  : 2 / 1.0 / 32 / 1\n",
      "x265 [info]: Rate Control / qCompress            : CRF-22.0 / 0.60\n",
      "x265 [info]: tools: rd=3 psy-rd=2.00 early-skip rskip mode=1 signhide tmvp\n",
      "x265 [info]: tools: b-intra strong-intra-smoothing lslices=6 deblock sao\n",
      "x265 [info]: frame I:     18, Avg QP:20.43  kb/s: 1631.95 \n",
      "x265 [info]: frame P:   4398, Avg QP:25.19  kb/s: 129.53  \n",
      "x265 [info]: frame B:     84, Avg QP:27.65  kb/s: 79.90   \n",
      "x265 [info]: Weighted P-Frames: Y:0.0% UV:0.0%\n",
      "x265 [info]: consecutive B-frames: 98.1% 1.9% 0.0% 0.0% 0.0% \n",
      "\n",
      "encoded 4500 frames in 104.23s (43.17 fps), 134.61 kb/s, Avg QP:25.21\n"
     ]
    },
    {
     "data": {
      "application/vnd.jupyter.widget-view+json": {
       "model_id": "44420ecbfa8a4d0887667d76ac630dfa",
       "version_major": 2,
       "version_minor": 0
      },
      "text/plain": [
       "output-diamond@15Hz:   0%|          | 0/4500 [00:00<?, ?it/s]"
      ]
     },
     "metadata": {},
     "output_type": "display_data"
    },
    {
     "name": "stdout",
     "output_type": "stream",
     "text": [
      "x265 [info]: HEVC encoder version 3.5+1-f0c1022b6\n",
      "x265 [info]: build info [Linux][GCC 8.3.0][64 bit] 8bit+10bit+12bit\n",
      "x265 [info]: using cpu capabilities: MMX2 SSE2Fast LZCNT SSSE3 SSE4.2 AVX FMA3 BMI2 AVX2\n",
      "x265 [info]: Main profile, Level-4 (Main tier)\n",
      "x265 [info]: Thread pool created using 20 threads\n",
      "x265 [info]: Slices                              : 1\n",
      "x265 [info]: frame threads / pool features       : 4 / wpp(17 rows)\n",
      "x265 [info]: Coding QT: max CU size, min CU size : 64 / 8\n",
      "x265 [info]: Residual QT: max TU size, max depth : 32 / 1 inter / 1 intra\n",
      "x265 [info]: ME / range / subpel / merge         : hex / 57 / 2 / 3\n",
      "x265 [info]: Keyframe min / max / scenecut / bias  : 15 / 250 / 40 / 5.00 \n",
      "x265 [info]: Lookahead / bframes / badapt        : 20 / 4 / 2\n",
      "x265 [info]: b-pyramid / weightp / weightb       : 1 / 1 / 0\n",
      "x265 [info]: References / ref-limit  cu / depth  : 3 / off / on\n",
      "x265 [info]: AQ: mode / str / qg-size / cu-tree  : 2 / 1.0 / 32 / 1\n",
      "x265 [info]: Rate Control / qCompress            : CRF-22.0 / 0.60\n",
      "x265 [info]: tools: rd=3 psy-rd=2.00 early-skip rskip mode=1 signhide tmvp\n",
      "x265 [info]: tools: b-intra strong-intra-smoothing lslices=6 deblock sao\n",
      "x265 [info]: frame I:     18, Avg QP:19.59  kb/s: 1925.19 \n",
      "x265 [info]: frame P:   1107, Avg QP:23.54  kb/s: 336.24  \n",
      "x265 [info]: frame B:   3375, Avg QP:27.38  kb/s: 154.67  \n",
      "x265 [info]: Weighted P-Frames: Y:0.0% UV:0.0%\n",
      "x265 [info]: consecutive B-frames: 8.6% 9.2% 9.3% 19.4% 53.5% \n",
      "\n",
      "encoded 4500 frames in 199.00s (22.61 fps), 206.42 kb/s, Avg QP:26.41\n"
     ]
    },
    {
     "data": {
      "application/vnd.jupyter.widget-view+json": {
       "model_id": "33a58dbef5df4629ad29fbd4378da77c",
       "version_major": 2,
       "version_minor": 0
      },
      "text/plain": [
       "output-aruco@30Hz:   0%|          | 0/9000 [00:00<?, ?it/s]"
      ]
     },
     "metadata": {},
     "output_type": "display_data"
    },
    {
     "name": "stdout",
     "output_type": "stream",
     "text": [
      "x265 [info]: HEVC encoder version 3.5+1-f0c1022b6\n",
      "x265 [info]: build info [Linux][GCC 8.3.0][64 bit] 8bit+10bit+12bit\n",
      "x265 [info]: using cpu capabilities: MMX2 SSE2Fast LZCNT SSSE3 SSE4.2 AVX FMA3 BMI2 AVX2\n",
      "x265 [info]: Main profile, Level-4 (Main tier)\n",
      "x265 [info]: Thread pool created using 20 threads\n",
      "x265 [info]: Slices                              : 1\n",
      "x265 [info]: frame threads / pool features       : 4 / wpp(17 rows)\n",
      "x265 [info]: Coding QT: max CU size, min CU size : 64 / 8\n",
      "x265 [info]: Residual QT: max TU size, max depth : 32 / 1 inter / 1 intra\n",
      "x265 [info]: ME / range / subpel / merge         : hex / 57 / 2 / 3\n",
      "x265 [info]: Keyframe min / max / scenecut / bias  : 25 / 250 / 40 / 5.00 \n",
      "x265 [info]: Lookahead / bframes / badapt        : 20 / 4 / 2\n",
      "x265 [info]: b-pyramid / weightp / weightb       : 1 / 1 / 0\n",
      "x265 [info]: References / ref-limit  cu / depth  : 3 / off / on\n",
      "x265 [info]: AQ: mode / str / qg-size / cu-tree  : 2 / 1.0 / 32 / 1\n",
      "x265 [info]: Rate Control / qCompress            : CRF-22.0 / 0.60\n",
      "x265 [info]: tools: rd=3 psy-rd=2.00 early-skip rskip mode=1 signhide tmvp\n",
      "x265 [info]: tools: b-intra strong-intra-smoothing lslices=6 deblock sao\n",
      "x265 [info]: frame I:     36, Avg QP:22.85  kb/s: 2914.00 \n",
      "x265 [info]: frame P:   8796, Avg QP:27.32  kb/s: 232.17  \n",
      "x265 [info]: frame B:    168, Avg QP:29.75  kb/s: 144.33  \n",
      "x265 [info]: Weighted P-Frames: Y:0.0% UV:0.0%\n",
      "x265 [info]: consecutive B-frames: 98.1% 1.9% 0.0% 0.0% 0.0% \n",
      "\n",
      "encoded 9000 frames in 481.20s (18.70 fps), 241.25 kb/s, Avg QP:27.35\n"
     ]
    },
    {
     "data": {
      "application/vnd.jupyter.widget-view+json": {
       "model_id": "4db21175b9e54f6598e1f11f1baa1017",
       "version_major": 2,
       "version_minor": 0
      },
      "text/plain": [
       "output-diamond@30Hz:   0%|          | 0/9000 [00:00<?, ?it/s]"
      ]
     },
     "metadata": {},
     "output_type": "display_data"
    },
    {
     "name": "stdout",
     "output_type": "stream",
     "text": [
      "x265 [info]: HEVC encoder version 3.5+1-f0c1022b6\n",
      "x265 [info]: build info [Linux][GCC 8.3.0][64 bit] 8bit+10bit+12bit\n",
      "x265 [info]: using cpu capabilities: MMX2 SSE2Fast LZCNT SSSE3 SSE4.2 AVX FMA3 BMI2 AVX2\n",
      "x265 [info]: Main profile, Level-4 (Main tier)\n",
      "x265 [info]: Thread pool created using 20 threads\n",
      "x265 [info]: Slices                              : 1\n",
      "x265 [info]: frame threads / pool features       : 4 / wpp(17 rows)\n",
      "x265 [info]: Coding QT: max CU size, min CU size : 64 / 8\n",
      "x265 [info]: Residual QT: max TU size, max depth : 32 / 1 inter / 1 intra\n",
      "x265 [info]: ME / range / subpel / merge         : hex / 57 / 2 / 3\n",
      "x265 [info]: Keyframe min / max / scenecut / bias  : 25 / 250 / 40 / 5.00 \n",
      "x265 [info]: Lookahead / bframes / badapt        : 20 / 4 / 2\n",
      "x265 [info]: b-pyramid / weightp / weightb       : 1 / 1 / 0\n",
      "x265 [info]: References / ref-limit  cu / depth  : 3 / off / on\n",
      "x265 [info]: AQ: mode / str / qg-size / cu-tree  : 2 / 1.0 / 32 / 1\n",
      "x265 [info]: Rate Control / qCompress            : CRF-22.0 / 0.60\n",
      "x265 [info]: tools: rd=3 psy-rd=2.00 early-skip rskip mode=1 signhide tmvp\n",
      "x265 [info]: tools: b-intra strong-intra-smoothing lslices=6 deblock sao\n",
      "x265 [info]: frame I:     36, Avg QP:21.55  kb/s: 3419.97 \n",
      "x265 [info]: frame P:   2214, Avg QP:25.85  kb/s: 583.38  \n",
      "x265 [info]: frame B:   6750, Avg QP:29.45  kb/s: 282.00  \n",
      "x265 [info]: Weighted P-Frames: Y:0.0% UV:0.0%\n",
      "x265 [info]: consecutive B-frames: 8.6% 9.2% 9.3% 19.3% 53.6% \n",
      "\n",
      "encoded 9000 frames in 389.98s (23.08 fps), 368.69 kb/s, Avg QP:28.53\n"
     ]
    },
    {
     "data": {
      "text/plain": [
       "\"\\nfor i in tqdm(range(duration*video_fps)):\\n    i = i % 250\\n    image = cv2.aruco.drawMarker(aruco_dict, i, square_length)\\n    buf = np.ones((video_height, video_width, 3), dtype=np.uint8) * 255\\n    dx = (video_width-square_length)//2\\n    dy = (video_height-square_length)//2\\n    buf[dy:dy+square_length,dx:dx+square_length,:] = image[:,:,None]\\n    \\n    cv2.putText(buf, f'DICT_6X6_250 #{i} @ {video_fps}Hz', (dx, video_height-50), cv2.FONT_HERSHEY_PLAIN, 4, (0, 0, 0), 5, cv2.LINE_AA)\\n    \\n    video.write(buf)\\n\\nvideo.release()\\n\""
      ]
     },
     "execution_count": 13,
     "metadata": {},
     "output_type": "execute_result"
    }
   ],
   "source": [
    "from IPython.display import Video\n",
    "\n",
    "duration = 60 * 5 # 5 min\n",
    "video_width = 1920\n",
    "video_height = 1080\n",
    "\n",
    "aruco_dict = cv2.aruco.getPredefinedDictionary(cv2.aruco.DICT_6X6_250)\n",
    "aruco_dict_size = 250\n",
    "\n",
    "video_fps = [15, 30]\n",
    "output_base = [\"output-aruco\", \"output-diamond\"]\n",
    "maker = [AruCoMaker(aruco_dict, aruco_dict_size, 800),\n",
    "         ChAruCoDiamondMaker(aruco_dict, aruco_dict_size, 300, 180)]\n",
    "\n",
    "# opencv-python by pip does not suppert 'h264'.\n",
    "codec = cv2.VideoWriter_fourcc(*'mp4v')\n",
    "\n",
    "\n",
    "for fps in video_fps:\n",
    "    for ba, ma in zip(output_base, maker):\n",
    "        video = cv2.VideoWriter(ba + '.mp4', codec, fps, (video_width, video_height))\n",
    "        for i in tqdm(range(duration*fps), desc=f'{ba}@{fps}Hz'):\n",
    "            i = i % aruco_dict_size\n",
    "            buf = padto(ma[i], video_width, video_height)\n",
    "            cv2.putText(buf, f'DICT_6X6_250 #{i} @ {video_fps}Hz', (100, video_height-50), cv2.FONT_HERSHEY_PLAIN, 4, (0, 0, 0), 5, cv2.LINE_AA)\n",
    "            video.write(buf)\n",
    "        video.release()\n",
    "        !ffmpeg -loglevel quiet -i \"{ba}.mp4\" -c:v libx265 -crf 22 -tag:v hvc1 -y \"{ba}-{fps}hz.mp4\"\n",
    "        #Video('{ba}-{fps}hz.mp4', embed=True)\n",
    "\n",
    "\"\"\"\n",
    "for i in tqdm(range(duration*video_fps)):\n",
    "    i = i % 250\n",
    "    image = cv2.aruco.drawMarker(aruco_dict, i, square_length)\n",
    "    buf = np.ones((video_height, video_width, 3), dtype=np.uint8) * 255\n",
    "    dx = (video_width-square_length)//2\n",
    "    dy = (video_height-square_length)//2\n",
    "    buf[dy:dy+square_length,dx:dx+square_length,:] = image[:,:,None]\n",
    "    \n",
    "    cv2.putText(buf, f'DICT_6X6_250 #{i} @ {video_fps}Hz', (dx, video_height-50), cv2.FONT_HERSHEY_PLAIN, 4, (0, 0, 0), 5, cv2.LINE_AA)\n",
    "    \n",
    "    video.write(buf)\n",
    "\n",
    "video.release()\n",
    "\"\"\"\n"
   ]
  },
  {
   "cell_type": "markdown",
   "id": "c8a902a4",
   "metadata": {},
   "source": [
    "## Re-encode\n",
    "\n",
    "We can then use `ffmpeg` to encode MP4V to H264.  This makes the filesize smaller in general, and also allows embedding the video in the web browser.\n"
   ]
  },
  {
   "cell_type": "code",
   "execution_count": 5,
   "id": "06ce2ebd",
   "metadata": {},
   "outputs": [
    {
     "name": "stdout",
     "output_type": "stream",
     "text": [
      "x265 [info]: HEVC encoder version 3.5+1-f0c1022b6\r\n",
      "x265 [info]: build info [Linux][GCC 8.3.0][64 bit] 8bit+10bit+12bit\r\n",
      "x265 [info]: using cpu capabilities: MMX2 SSE2Fast LZCNT SSSE3 SSE4.2 AVX FMA3 BMI2 AVX2\r\n",
      "x265 [info]: Main profile, Level-4 (Main tier)\r\n",
      "x265 [info]: Thread pool created using 20 threads\r\n",
      "x265 [info]: Slices                              : 1\r\n",
      "x265 [info]: frame threads / pool features       : 4 / wpp(17 rows)\r\n",
      "x265 [info]: Coding QT: max CU size, min CU size : 64 / 8\r\n",
      "x265 [info]: Residual QT: max TU size, max depth : 32 / 1 inter / 1 intra\r\n",
      "x265 [info]: ME / range / subpel / merge         : hex / 57 / 2 / 3\r\n",
      "x265 [info]: Keyframe min / max / scenecut / bias  : 15 / 250 / 40 / 5.00 \r\n",
      "x265 [info]: Lookahead / bframes / badapt        : 20 / 4 / 2\r\n",
      "x265 [info]: b-pyramid / weightp / weightb       : 1 / 1 / 0\r\n",
      "x265 [info]: References / ref-limit  cu / depth  : 3 / off / on\r\n",
      "x265 [info]: AQ: mode / str / qg-size / cu-tree  : 2 / 1.0 / 32 / 1\r\n",
      "x265 [info]: Rate Control / qCompress            : CRF-22.0 / 0.60\r\n",
      "x265 [info]: tools: rd=3 psy-rd=2.00 early-skip rskip mode=1 signhide tmvp\r\n",
      "x265 [info]: tools: b-intra strong-intra-smoothing lslices=6 deblock sao\r\n"
     ]
    },
    {
     "data": {
      "text/html": [
       "<video controls  >\n",
       " <source src=\"data:None;base64,{output_base}-{video_fps}hz.mp4\" type=\"None\">\n",
       " Your browser does not support the video tag.\n",
       " </video>"
      ],
      "text/plain": [
       "<IPython.core.display.Video object>"
      ]
     },
     "execution_count": 5,
     "metadata": {},
     "output_type": "execute_result"
    }
   ],
   "source": [
    "from IPython.display import Video\n",
    "!ffmpeg -loglevel quiet -i \"{output_base}.mp4\" -c:v libx265 -crf 22 -tag:v hvc1 -y \"{output_base}-{video_fps}hz.mp4\"\n",
    "Video('{output_base}-{video_fps}hz.mp4', embed=True)"
   ]
  },
  {
   "cell_type": "markdown",
   "id": "e97619f4",
   "metadata": {},
   "source": [
    "# Diamond version"
   ]
  },
  {
   "cell_type": "code",
   "execution_count": 3,
   "id": "6a021a00",
   "metadata": {},
   "outputs": [
    {
     "data": {
      "application/vnd.jupyter.widget-view+json": {
       "model_id": "ad65f431d1b04f7399e0e1e08de8148a",
       "version_major": 2,
       "version_minor": 0
      },
      "text/plain": [
       "  0%|          | 0/4500 [00:00<?, ?it/s]"
      ]
     },
     "metadata": {},
     "output_type": "display_data"
    }
   ],
   "source": [
    "%matplotlib notebook\n",
    "import sys, os, cv2\n",
    "import numpy as np\n",
    "import matplotlib.pyplot as plt\n",
    "from tqdm.auto import tqdm\n",
    "\n",
    "duration = 60 * 5 # 5 min\n",
    "video_fps = 15\n",
    "output_base = \"output-diamond\"\n",
    "\n",
    "\n",
    "video_width = 1920\n",
    "video_height = 1080\n",
    "square_length = 200\n",
    "marker_length = 120\n",
    "aruco_dict = cv2.aruco.getPredefinedDictionary(cv2.aruco.DICT_6X6_250)\n",
    "\n",
    "# opencv-python by pip does not suppert 'h264'.\n",
    "codec = cv2.VideoWriter_fourcc(*'mp4v')\n",
    "video = cv2.VideoWriter(output_base + '.mp4', codec, video_fps, (video_width, video_height))\n",
    "\n",
    "for i in tqdm(range(duration*video_fps)):\n",
    "    diamond_marker_ids = np.array([0, 1, 2, 3], dtype=int)\n",
    "    diamond_marker_ids += i\n",
    "    diamond_marker_ids %= 250\n",
    "    image = cv2.aruco.drawCharucoDiamond(aruco_dict, diamond_marker_ids, square_length, marker_length)\n",
    "    ih, iw = image.shape[:2]\n",
    "    buf = np.ones((video_height, video_width, 3), dtype=np.uint8) * 255\n",
    "    dx = (video_width-iw)//2\n",
    "    dy = (video_height-ih)//2\n",
    "    buf[dy:dy+ih,dx:dx+iw,:] = image[:,:,None]\n",
    "    \n",
    "    cv2.putText(buf, f'DICT_6X6_250 {diamond_marker_ids} @ {video_fps}Hz', (dx, video_height-50), cv2.FONT_HERSHEY_PLAIN, 4, (0, 0, 0), 5, cv2.LINE_AA)\n",
    "    \n",
    "    video.write(buf)\n",
    "\n",
    "video.release()\n"
   ]
  },
  {
   "cell_type": "code",
   "execution_count": 4,
   "id": "aec2acf9",
   "metadata": {},
   "outputs": [
    {
     "data": {
      "text/html": [
       "<video controls  >\n",
       " <source src=\"data:None;base64,{output_base}-{video_fps}hz.mp4\" type=\"None\">\n",
       " Your browser does not support the video tag.\n",
       " </video>"
      ],
      "text/plain": [
       "<IPython.core.display.Video object>"
      ]
     },
     "execution_count": 4,
     "metadata": {},
     "output_type": "execute_result"
    }
   ],
   "source": [
    "from IPython.display import Video\n",
    "!ffmpeg -loglevel quiet -i \"{output_base}.mp4\" -c:v libx265 -crf 22 -tag:v hvc1 -y \"{output_base}-{video_fps}hz.mp4\"\n",
    "Video('{output_base}-{video_fps}hz.mp4', embed=True)"
   ]
  }
 ],
 "metadata": {
  "kernelspec": {
   "display_name": "Python 3 (ipykernel)",
   "language": "python",
   "name": "python3"
  },
  "language_info": {
   "codemirror_mode": {
    "name": "ipython",
    "version": 3
   },
   "file_extension": ".py",
   "mimetype": "text/x-python",
   "name": "python",
   "nbconvert_exporter": "python",
   "pygments_lexer": "ipython3",
   "version": "3.10.12"
  }
 },
 "nbformat": 4,
 "nbformat_minor": 5
}
