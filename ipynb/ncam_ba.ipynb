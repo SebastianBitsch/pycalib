{
 "cells": [
  {
   "cell_type": "markdown",
   "metadata": {},
   "source": [
    "\n",
    "* Under refactoring. See `pycalib/ba.py`.\n"
   ]
  },
  {
   "cell_type": "code",
   "execution_count": 3,
   "metadata": {},
   "outputs": [],
   "source": [
    "%matplotlib notebook\n",
    "import sys, os, cv2\n",
    "import numpy as np\n",
    "from glob import glob\n",
    "import matplotlib.pyplot as plt\n",
    "from mpl_toolkits.mplot3d import Axes3D\n",
    "\n",
    "module_path = os.path.abspath(os.path.join('..'))\n",
    "if module_path not in sys.path:\n",
    "    sys.path.append(module_path)\n",
    "\n",
    "from pycalib.plot import plotCamera\n",
    "from pycalib.ba import Projection, Camera\n"
   ]
  },
  {
   "cell_type": "code",
   "execution_count": 4,
   "metadata": {},
   "outputs": [
    {
     "name": "stdout",
     "output_type": "stream",
     "text": [
      "X_gt: (27, 3)\n",
      "R_gt: (5, 3, 3)\n",
      "t_gt: (5, 3, 1)\n",
      "P_gt: (5, 3, 4)\n",
      "rvec_gt: (5, 3, 1)\n",
      "x: (5, 27, 2)\n"
     ]
    }
   ],
   "source": [
    "# 3D points\n",
    "# X_gt = (np.random.rand(16, 3) - 0.5)*5 # random points centered at [0, 0, 0]\n",
    "X_gt = np.array(np.meshgrid(np.linspace(-1, 1, 3), np.linspace(-1, 1, 3), np.linspace(-1, 1, 3))).reshape((3, -1)).T  # 3D grid points\n",
    "Np = X_gt.shape[0]\n",
    "print('X_gt:', X_gt.shape)\n",
    "\n",
    "# Camera intrinsics\n",
    "K = np.array([[600, 0, 320], [0, 600, 240], [0, 0, 1]]).astype(np.float)  # VGA camera\n",
    "\n",
    "# Camera poses: cameras are at the vertices of a hexagon\n",
    "t = 2 * np.pi / 5 * np.arange(5)\n",
    "v_gt = np.vstack((10*np.cos(t), 10*np.sin(t), np.zeros(t.shape))).T\n",
    "Nc = v_gt.shape[0]\n",
    "R_gt = []\n",
    "t_gt = []\n",
    "P_gt = []\n",
    "rvec_gt = []\n",
    "for i in range(Nc):\n",
    "    t = v_gt[i,:]\n",
    "    R, t = lookat(t, np.zeros(3), np.array([0, 1, 0]))\n",
    "    R_gt.append(R)\n",
    "    t_gt.append(t)\n",
    "    P_gt.append(K @ np.hstack((R, t)))\n",
    "    rvec_gt.append(cv2.Rodrigues(R)[0])\n",
    "R_gt = np.array(R_gt)\n",
    "t_gt = np.array(t_gt)\n",
    "P_gt = np.array(P_gt)\n",
    "rvec_gt = np.array(rvec_gt)\n",
    "print('R_gt:', R_gt.shape)\n",
    "print('t_gt:', t_gt.shape)\n",
    "print('P_gt:', P_gt.shape)\n",
    "print('rvec_gt:', rvec_gt.shape)\n",
    "\n",
    "# 2D observations points\n",
    "x = []\n",
    "for i in range(Nc):\n",
    "    xt = cv2.projectPoints(X_gt.reshape((-1, 1, 3)), rvec_gt[i], t_gt[i], K, None)[0].reshape((-1, 2))\n",
    "    x.append(xt)\n",
    "x = np.array(x)\n",
    "print('x:', x.shape)\n",
    "\n",
    "# Verify triangulation\n",
    "Y = []\n",
    "for i in range(Np):\n",
    "    y = triangulate(x[:,i,:].reshape((-1,2)), P_gt)\n",
    "    #print(y)\n",
    "    Y.append(y)\n",
    "Y = np.array(Y).T\n",
    "Y = Y[:3,:] / Y[3,:]\n",
    "assert np.allclose(0, X_gt - Y.T)\n",
    "\n",
    "# Verify z > 0 at each camera\n",
    "for i in range(Nc):\n",
    "    Xc = R_gt[i] @ X_gt.T + t_gt[i]\n",
    "    assert np.all(Xc[2, :] > 0)\n"
   ]
  },
  {
   "cell_type": "markdown",
   "metadata": {},
   "source": [
    "add gaussian noise to the ground truth"
   ]
  },
  {
   "cell_type": "code",
   "execution_count": 7,
   "metadata": {},
   "outputs": [
    {
     "name": "stdout",
     "output_type": "stream",
     "text": [
      "[[[600.   0. 320.]\n",
      "  [  0. 600. 240.]\n",
      "  [  0.   0.   1.]]\n",
      "\n",
      " [[600.   0. 320.]\n",
      "  [  0. 600. 240.]\n",
      "  [  0.   0.   1.]]\n",
      "\n",
      " [[600.   0. 320.]\n",
      "  [  0. 600. 240.]\n",
      "  [  0.   0.   1.]]\n",
      "\n",
      " [[600.   0. 320.]\n",
      "  [  0. 600. 240.]\n",
      "  [  0.   0.   1.]]\n",
      "\n",
      " [[600.   0. 320.]\n",
      "  [  0. 600. 240.]\n",
      "  [  0.   0.   1.]]]\n"
     ]
    }
   ],
   "source": [
    "R_est = R_gt.copy()\n",
    "t_est = R_gt.copy()\n",
    "K_est = np.array([K for c in range(Nc)])"
   ]
  },
  {
   "cell_type": "markdown",
   "metadata": {},
   "source": [
    "Bundle adjustment"
   ]
  },
  {
   "cell_type": "code",
   "execution_count": 9,
   "metadata": {},
   "outputs": [
    {
     "ename": "NameError",
     "evalue": "name 'torch' is not defined",
     "output_type": "error",
     "traceback": [
      "\u001b[1;31m---------------------------------------------------------------------------\u001b[0m",
      "\u001b[1;31mNameError\u001b[0m                                 Traceback (most recent call last)",
      "\u001b[1;32m<ipython-input-9-eaea4ef7d266>\u001b[0m in \u001b[0;36m<module>\u001b[1;34m\u001b[0m\n\u001b[0;32m      5\u001b[0m     \u001b[0mcams\u001b[0m\u001b[1;33m.\u001b[0m\u001b[0mappend\u001b[0m\u001b[1;33m(\u001b[0m\u001b[0mcam\u001b[0m\u001b[1;33m)\u001b[0m\u001b[1;33m\u001b[0m\u001b[1;33m\u001b[0m\u001b[0m\n\u001b[0;32m      6\u001b[0m \u001b[1;33m\u001b[0m\u001b[0m\n\u001b[1;32m----> 7\u001b[1;33m \u001b[0mmasks\u001b[0m \u001b[1;33m=\u001b[0m \u001b[0mtorch\u001b[0m\u001b[1;33m.\u001b[0m\u001b[0mfrom_numpy\u001b[0m\u001b[1;33m(\u001b[0m\u001b[0mmask\u001b[0m\u001b[1;33m)\u001b[0m\u001b[1;33m\u001b[0m\u001b[1;33m\u001b[0m\u001b[0m\n\u001b[0m\u001b[0;32m      8\u001b[0m \u001b[0mpt2ds\u001b[0m \u001b[1;33m=\u001b[0m \u001b[0mtorch\u001b[0m\u001b[1;33m.\u001b[0m\u001b[0mfrom_numpy\u001b[0m\u001b[1;33m(\u001b[0m\u001b[1;33m-\u001b[0m\u001b[0mobservations\u001b[0m\u001b[1;33m[\u001b[0m\u001b[1;33m:\u001b[0m\u001b[1;33m,\u001b[0m \u001b[1;36m2\u001b[0m\u001b[1;33m:\u001b[0m\u001b[1;33m]\u001b[0m\u001b[1;33m)\u001b[0m\u001b[1;33m\u001b[0m\u001b[1;33m\u001b[0m\u001b[0m\n\u001b[0;32m      9\u001b[0m \u001b[1;32massert\u001b[0m \u001b[0mmasks\u001b[0m\u001b[1;33m.\u001b[0m\u001b[0mshape\u001b[0m \u001b[1;33m==\u001b[0m \u001b[1;33m(\u001b[0m\u001b[0mnum_cameras\u001b[0m\u001b[1;33m,\u001b[0m \u001b[0mnum_points\u001b[0m\u001b[1;33m)\u001b[0m\u001b[1;33m\u001b[0m\u001b[1;33m\u001b[0m\u001b[0m\n",
      "\u001b[1;31mNameError\u001b[0m: name 'torch' is not defined"
     ]
    }
   ],
   "source": [
    "# build the model\n",
    "cams = []\n",
    "for i in range(Nc):\n",
    "    cam = Camera(cv2.Rodrigues(R_est[i])[0], t_est[i], K_est[i][0,0], None, K_est[i][0,2], K_est[i][1,2], np.zeros(5))\n",
    "    cams.append(cam)\n",
    "\n",
    "    \n",
    "########\n",
    "\n",
    "masks = torch.from_numpy(mask)\n",
    "pt2ds = torch.from_numpy(-observations[:, 2:])\n",
    "assert masks.shape == (num_cameras, num_points)\n",
    "\n",
    "model = Projection(cams, points.T)\n",
    "print(model)\n",
    "\n",
    "device = torch.device('cpu')\n",
    "\n",
    "model = model.to(device)\n",
    "masks = masks.to(device)\n",
    "pt2ds = pt2ds.to(device)\n",
    "\n",
    "optimizer = optim.Adadelta(model.parameters(), lr=1e-2)\n",
    "criterion = torch.nn.MSELoss()\n",
    "\n",
    "model.train()\n",
    "for i in range(1000):\n",
    "    # 順伝搬\n",
    "    x = model.forward(masks)\n",
    "    # 再投影誤差を計算\n",
    "    loss = criterion(x, pt2ds)\n",
    "    print('E_rep[%d] = %f px (mse)' % (i, loss))\n",
    "    #print(x[0, :], pt2ds[0, :])\n",
    "    # 勾配をゼロ初期化\n",
    "    optimizer.zero_grad()\n",
    "    # 勾配の計算\n",
    "    loss.backward()\n",
    "    # パラメータの更新\n",
    "    optimizer.step()\n",
    "\n",
    "print(model.cpu())"
   ]
  }
 ],
 "metadata": {
  "kernelspec": {
   "display_name": "Python 3",
   "language": "python",
   "name": "python3"
  },
  "language_info": {
   "codemirror_mode": {
    "name": "ipython",
    "version": 3
   },
   "file_extension": ".py",
   "mimetype": "text/x-python",
   "name": "python",
   "nbconvert_exporter": "python",
   "pygments_lexer": "ipython3",
   "version": "3.7.1"
  }
 },
 "nbformat": 4,
 "nbformat_minor": 2
}
