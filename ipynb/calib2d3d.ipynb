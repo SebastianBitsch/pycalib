{
 "cells": [
  {
   "cell_type": "markdown",
   "metadata": {
    "id": "6l_bTyTAU0lP"
   },
   "source": [
    "# Intrinsic and Extrinsic Calibration from 2D-3D Correspondences\n",
    "\n",
    "Given a set of 2D-3D correspondences $\\langle x_i, X_i \\rangle \\; (i=1,\\dots,N)$ and an initial guess of the intrinsic parameter $K_0$, we can find $R$, $t$, and $K$ satisfying\n",
    "\\begin{equation}\n",
    "x \\sim K (R X + t)\\,.\n",
    "\\end{equation}\n"
   ]
  },
  {
   "cell_type": "code",
   "execution_count": 1,
   "metadata": {
    "colab": {
     "base_uri": "https://localhost:8080/",
     "height": 248
    },
    "id": "T1xhHUk_Uwp_",
    "outputId": "6a19076f-531b-446e-fcfe-f71d4918dd45"
   },
   "outputs": [
    {
     "name": "stderr",
     "output_type": "stream",
     "text": [
      "/tmp/ipykernel_910/1462326017.py:64: MatplotlibDeprecationWarning: Calling gca() with keyword arguments was deprecated in Matplotlib 3.4. Starting two minor releases later, gca() will take no keyword arguments. The gca() function should only be used to get the current axes, or if no axes exist, create new axes with default keyword arguments. To create a new axes with non-default arguments, use plt.axes() or plt.subplot().\n",
      "  ax = fig.gca(projection='3d')\n"
     ]
    },
    {
     "data": {
      "image/png": "[encoded data removed]",
      "text/plain": [
       "<Figure size 432x288 with 1 Axes>"
      ]
     },
     "metadata": {
      "needs_background": "light"
     },
     "output_type": "display_data"
    }
   ],
   "source": [
    "# Synthetic data\n",
    "\n",
    "import numpy as np\n",
    "import matplotlib.pyplot as plt\n",
    "from mpl_toolkits.mplot3d import Axes3D\n",
    "import cv2\n",
    "\n",
    "T = 20\n",
    "\n",
    "def lookat(pos, eye):\n",
    "    up = np.array([0, 0, 1])\n",
    "    ez = eye - pos\n",
    "    ez = ez / np.linalg.norm(ez)\n",
    "    ex = np.cross(ez, up)\n",
    "    ex = ex / np.linalg.norm(ex)\n",
    "    ey = np.cross(ez, ex)\n",
    "    ey = ey / np.linalg.norm(ey)\n",
    "    R_c2w = np.array([ex, ey, ez])\n",
    "    return R_c2w.T, pos\n",
    "\n",
    "def plot_cam(ax, R_c2w, t_c2w, name=None, scale=0.5):\n",
    "    ex = R_c2w[:,0] * scale + t_c2w\n",
    "    ey = R_c2w[:,1] * scale + t_c2w\n",
    "    ez = R_c2w[:,2] * scale + t_c2w\n",
    "    p = np.array([ex, t_c2w, ey, t_c2w, ez, t_c2w])\n",
    "    ax.plot(p[:,0], p[:,1], p[:,2])\n",
    "    ax.text(p[0,0], p[0,1], p[0,2], 'x')\n",
    "    ax.text(p[2,0], p[2,1], p[2,2], 'y')\n",
    "    ax.text(p[4,0], p[4,1], p[4,2], 'z')\n",
    "    if name is not None:\n",
    "        ax.text(p[1,0], p[1,1], p[1,2], name)\n",
    "\n",
    "# GT cameras in C2W\n",
    "R1_gt, t1_gt = lookat(np.array([2, 0, 2]), np.array([0, 0, 0]))\n",
    "R2_gt, t2_gt = lookat(np.array([1, 1, 2]), np.array([0, 0, 0]))\n",
    "R3_gt, t3_gt = lookat(np.array([0, 2, 2]), np.array([0, 0, 0]))\n",
    "\n",
    "# GT positions (T x 3 matrix)\n",
    "X_gt = np.random.rand(T, 3) - 0.5\n",
    "\n",
    "# GT intrinsics\n",
    "K1_gt = np.array([[ 640, 0, 320], [0,  640, 240], [0, 0, 1]], dtype=np.float64)\n",
    "K2_gt = np.array([[1280, 0, 640], [0, 1280, 360], [0, 0, 1]], dtype=np.float64)\n",
    "K3_gt = np.array([[1920, 0, 960], [0, 1920, 540], [0, 0, 1]], dtype=np.float64)\n",
    "\n",
    "# GT position observations (T x 3 matrix)\n",
    "x1_gt = (X_gt @ R1_gt - R1_gt.T @ t1_gt) @ K1_gt.T\n",
    "x2_gt = (X_gt @ R2_gt - R2_gt.T @ t2_gt) @ K2_gt.T\n",
    "x3_gt = (X_gt @ R3_gt - R3_gt.T @ t3_gt) @ K3_gt.T\n",
    "\n",
    "# verify z>0\n",
    "assert np.sum(x1_gt[:,2] < 0) == 0\n",
    "assert np.sum(x2_gt[:,2] < 0) == 0\n",
    "assert np.sum(x3_gt[:,2] < 0) == 0\n",
    "\n",
    "x1_gt = x1_gt / x1_gt[:,2][:,None]\n",
    "x2_gt = x2_gt / x2_gt[:,2][:,None]\n",
    "x3_gt = x3_gt / x3_gt[:,2][:,None]\n",
    "\n",
    "\n",
    "# Visualize\n",
    "def visualize(R_list, t_list, v, title):\n",
    "    fig = plt.figure()\n",
    "    ax = fig.gca(projection='3d')\n",
    "\n",
    "    for i, (R, t) in enumerate(zip(R_list, t_list)):\n",
    "        plot_cam(ax, R, t, name=f'C{i}')\n",
    "\n",
    "    ax.scatter3D(v[:,0], v[:,1], v[:,2])\n",
    "    ax.set_xlim3d(-2, 2)\n",
    "    ax.set_ylim3d(-2, 2)\n",
    "    ax.set_zlim3d(-2, 2)\n",
    "    ax.set_title(title)\n",
    "    plt.show()\n",
    "\n",
    "visualize([R1_gt, R2_gt, R3_gt], [t1_gt, t2_gt, t3_gt], X_gt, 'GT')\n"
   ]
  },
  {
   "cell_type": "markdown",
   "metadata": {
    "id": "BoV3jMWtWiZi"
   },
   "source": [
    "# Case 1: Extrinsic calibration only == PnP"
   ]
  },
  {
   "cell_type": "code",
   "execution_count": 2,
   "metadata": {
    "colab": {
     "base_uri": "https://localhost:8080/"
    },
    "id": "ngytdRHpWUpr",
    "outputId": "e32f0eea-b305-4e25-a5ac-93d4697477dd"
   },
   "outputs": [
    {
     "name": "stdout",
     "output_type": "stream",
     "text": [
      "Error: R=7.406111315403549e-16, t=1.5567772583151072e-15\n"
     ]
    }
   ],
   "source": [
    "def calibRt(X, x, K, distCoeffs):\n",
    "    X = np.copy(X)\n",
    "    x = np.copy(x)\n",
    "    ret, rvec, tvec = cv2.solvePnP(X, x, K, distCoeffs)\n",
    "    rmat = cv2.Rodrigues(rvec)[0]\n",
    "    return rmat, tvec, ret\n",
    "\n",
    "# estimate\n",
    "R1, t1, ret = calibRt(X_gt, x1_gt[:,:2], K1_gt, np.zeros((5,1)))\n",
    "\n",
    "# eval\n",
    "Err_R = np.linalg.norm(R1.T - R1_gt)\n",
    "Err_t = np.linalg.norm(-R1.T@t1 - t1_gt.reshape((3,1)))\n",
    "print(f'Error: R={Err_R}, t={Err_t}')"
   ]
  },
  {
   "cell_type": "markdown",
   "metadata": {
    "id": "RT5BFbSYaEx9"
   },
   "source": [
    "# Case 2: Intirinsic and extrinsic calibration (w/o distortion)"
   ]
  },
  {
   "cell_type": "code",
   "execution_count": 3,
   "metadata": {
    "colab": {
     "base_uri": "https://localhost:8080/"
    },
    "id": "tJJFWfg9aNg6",
    "outputId": "95d63afd-e727-478b-fd52-e2d8335bdaa6"
   },
   "outputs": [
    {
     "name": "stdout",
     "output_type": "stream",
     "text": [
      "Error: R=6.031240046217567e-07, t=5.075536324773199e-07\n"
     ]
    }
   ],
   "source": [
    "def calibKRt(X, x, image_size, K0, distCoeffs0):\n",
    "    X = np.copy(X.astype(np.float32))\n",
    "    x = np.copy(x.astype(np.float32))\n",
    "    ret, mtx, dist, rvecs, tvecs = cv2.calibrateCamera([X], [x], image_size, K0, distCoeffs0, flags=cv2.CALIB_USE_INTRINSIC_GUESS+cv2.CALIB_FIX_ASPECT_RATIO+cv2.CALIB_ZERO_TANGENT_DIST+cv2.CALIB_FIX_K1+cv2.CALIB_FIX_K2+cv2.CALIB_FIX_K3+cv2.CALIB_FIX_K4+cv2.CALIB_FIX_K5+cv2.CALIB_FIX_K6)\n",
    "    rvec = rvecs[0]\n",
    "    tvec = tvecs[0]\n",
    "    rmat = cv2.Rodrigues(rvec)[0]\n",
    "    return rmat, tvec\n",
    "\n",
    "\n",
    "# estimate\n",
    "K0 = np.array([[1024, 0, 512], [0, 1024, 384], [0, 0, 1]], dtype=np.float64)\n",
    "R1, t1 = calibKRt(X_gt, x1_gt[:,:2], (1920, 1080), K0, np.zeros(5))\n",
    "\n",
    "# eval\n",
    "Err_R = np.linalg.norm(R1.T - R1_gt)\n",
    "Err_t = np.linalg.norm(-R1.T@t1 - t1_gt.reshape((3,1)))\n",
    "print(f'Error: R={Err_R}, t={Err_t}')"
   ]
  },
  {
   "cell_type": "markdown",
   "metadata": {
    "id": "ND2S6puLblZL"
   },
   "source": [
    "# Case 3: Intrinsic and extrinsic calibration (with distortion)"
   ]
  },
  {
   "cell_type": "code",
   "execution_count": 4,
   "metadata": {
    "colab": {
     "base_uri": "https://localhost:8080/"
    },
    "id": "ttV8IU9hbtlU",
    "outputId": "16d50e95-85a0-450e-d355-78d08b4efe92"
   },
   "outputs": [
    {
     "name": "stdout",
     "output_type": "stream",
     "text": [
      "Error: R=1.292340108216118e-06, t=1.0913765174746555e-06\n"
     ]
    }
   ],
   "source": [
    "def calibKdRt(X, x, image_size, K0, distCoeffs0):\n",
    "    X = np.copy(X.astype(np.float32))\n",
    "    x = np.copy(x.astype(np.float32))\n",
    "    ret, mtx, dist, rvecs, tvecs = cv2.calibrateCamera([X], [x], image_size, K0, distCoeffs0, flags=cv2.CALIB_USE_INTRINSIC_GUESS+cv2.CALIB_FIX_ASPECT_RATIO)\n",
    "    rvec = rvecs[0]\n",
    "    tvec = tvecs[0]\n",
    "    rmat = cv2.Rodrigues(rvec)[0]\n",
    "    return rmat, tvec, dist\n",
    "\n",
    "\n",
    "# estimate\n",
    "K0 = np.array([[1024, 0, 512], [0, 1024, 384], [0, 0, 1]], dtype=np.float64)\n",
    "R1, t1, distCoeffs = calibKdRt(X_gt, x1_gt[:,:2], (1920, 1080), K0, np.zeros(5))\n",
    "\n",
    "# eval\n",
    "Err_R = np.linalg.norm(R1.T - R1_gt)\n",
    "Err_t = np.linalg.norm(-R1.T@t1 - t1_gt.reshape((3,1)))\n",
    "print(f'Error: R={Err_R}, t={Err_t}')"
   ]
  }
 ],
 "metadata": {
  "colab": {
   "collapsed_sections": [],
   "name": "calib2d3d.ipynb",
   "provenance": []
  },
  "kernelspec": {
   "display_name": "Python 3 (ipykernel)",
   "language": "python",
   "name": "python3"
  },
  "language_info": {
   "codemirror_mode": {
    "name": "ipython",
    "version": 3
   },
   "file_extension": ".py",
   "mimetype": "text/x-python",
   "name": "python",
   "nbconvert_exporter": "python",
   "pygments_lexer": "ipython3",
   "version": "3.8.10"
  }
 },
 "nbformat": 4,
 "nbformat_minor": 1
}
